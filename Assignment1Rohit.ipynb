{
  "nbformat": 4,
  "nbformat_minor": 0,
  "metadata": {
    "colab": {
      "name": "Assignment-1.ipynb",
      "provenance": [],
      "collapsed_sections": []
    },
    "kernelspec": {
      "name": "python3",
      "display_name": "Python 3"
    },
    "language_info": {
      "name": "python"
    }
  },
  "cells": [
    {
      "cell_type": "markdown",
      "source": [
        "Let's solve a few problems to sharpen your coding skill.<br>\n",
        "You can code in the cell following the problem statement."
      ],
      "metadata": {
        "id": "hmYrhduIsDBK"
      }
    },
    {
      "cell_type": "markdown",
      "source": [
        "**Problem-1**<br>\n",
        "Your friend measures his body temperature using a thermometer and finds the<br> reading to be 100 degree Farenheit. Can you please let us know the reading in Celsius scale?"
      ],
      "metadata": {
        "id": "VH4pr19psa3T"
      }
    },
    {
      "cell_type": "code",
      "source": [
        "Farenheit = 100\n",
        "Celsius = (Farenheit - 32)*(5/9)\n",
        "print(Celsius)"
      ],
      "metadata": {
        "id": "r2yJkjp6tmXW",
        "colab": {
          "base_uri": "https://localhost:8080/"
        },
        "outputId": "cdf6bcc6-29eb-4f38-ffdf-5e3846d9f375"
      },
      "execution_count": 1,
      "outputs": [
        {
          "output_type": "stream",
          "name": "stdout",
          "text": [
            "37.77777777777778\n"
          ]
        }
      ]
    },
    {
      "cell_type": "markdown",
      "source": [
        "**Problem-2**<br>\n",
        "The cost of producing x unit of item in a factory is y. Cost y is related<br> to unit x by the following formula <br>\n",
        "y= a*x^2+b*x+c where<br>\n",
        "a, b, c are constants having value 2, 5, 1020 respectively.<br>\n",
        "In this text (not in python language) ^ represents raised to the power.<br>\n",
        "If management wants to produce 10,000 quantities of product, please let us know<br> the average manufacturing cost for a single item.\n"
      ],
      "metadata": {
        "id": "1BuMZENotxDK"
      }
    },
    {
      "cell_type": "code",
      "source": [
        "Cost = (2*10000**2)+(5*10000)+1020\n",
        "AvgCost=Cost/10000\n",
        "print(AvgCost)"
      ],
      "metadata": {
        "id": "ujMqe7d5xcv7",
        "colab": {
          "base_uri": "https://localhost:8080/"
        },
        "outputId": "2c65dc01-19fa-4571-c6e7-53498f52f7fe"
      },
      "execution_count": 3,
      "outputs": [
        {
          "output_type": "stream",
          "name": "stdout",
          "text": [
            "20005.102\n"
          ]
        }
      ]
    }
  ]
}